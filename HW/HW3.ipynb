{
 "cells": [
  {
   "cell_type": "code",
   "execution_count": 1,
   "id": "fbbebc6a",
   "metadata": {},
   "outputs": [],
   "source": [
    "# designed by A. Wildridge \n",
    "# improved by L. He \n",
    "# 02/12/2024"
   ]
  },
  {
   "cell_type": "code",
   "execution_count": 2,
   "id": "165473cf",
   "metadata": {},
   "outputs": [],
   "source": [
    "import numpy as np\n",
    "import vector\n",
    "import hist\n",
    "import uproot\n",
    "import matplotlib.pyplot as plt"
   ]
  },
  {
   "cell_type": "code",
   "execution_count": 3,
   "id": "315c8163",
   "metadata": {},
   "outputs": [],
   "source": [
    "# read in the data\n",
    "input_file = uproot.open('/home/he614/phys324/cms-machinelearning-notebooks/HW/input.root')"
   ]
  },
  {
   "cell_type": "code",
   "execution_count": 4,
   "id": "0e69fd13",
   "metadata": {},
   "outputs": [
    {
     "data": {
      "text/plain": [
       "['data;1', 'Z_to_l_lbar;1', 'Background;1']"
      ]
     },
     "execution_count": 4,
     "metadata": {},
     "output_type": "execute_result"
    }
   ],
   "source": [
    "# see whats inside\n",
    "input_file.keys()"
   ]
  },
  {
   "cell_type": "markdown",
   "id": "d95b2362",
   "metadata": {},
   "source": [
    "## This file contains the observed data labeled \"data\". The theory prediction for a Z boson decaying to a lepton and an antilepton \"Z_to_l_lbar\" and theory predictions for other decays labeled \"Background\"."
   ]
  },
  {
   "cell_type": "code",
   "execution_count": 5,
   "id": "110604c1",
   "metadata": {},
   "outputs": [
    {
     "name": "stdout",
     "output_type": "stream",
     "text": [
      "data;1 has the following data associated with it: ['m', 'px', 'py', 'pz']\n",
      "Z_to_l_lbar;1 has the following data associated with it: ['m', 'px', 'py', 'pz', 'weights']\n",
      "Background;1 has the following data associated with it: ['m', 'px', 'py', 'pz', 'weights']\n"
     ]
    }
   ],
   "source": [
    "for key in input_file.keys():\n",
    "    print(f'{key} has the following data associated with it: {input_file[key].keys()}')"
   ]
  },
  {
   "cell_type": "code",
   "execution_count": 6,
   "id": "e1b83584",
   "metadata": {},
   "outputs": [],
   "source": [
    "# store the data in some variables\n",
    "data_mass = input_file['data']['m'].array()\n",
    "signal_mass = input_file['Z_to_l_lbar']['m'].array()\n",
    "signal_weights = input_file['Z_to_l_lbar']['weights'].array()\n",
    "background_mass = input_file['Background']['m'].array()\n",
    "background_weights = input_file['Background']['weights'].array()"
   ]
  },
  {
   "cell_type": "markdown",
   "id": "d41de322",
   "metadata": {},
   "source": [
    "# Problem 1:\n",
    "## Make a plot of the dilepton invariant mass distribution $m_{l\\bar{l}}$ (labeled \"mass\" in the file) to see what the data looks like compared to our theory predictions."
   ]
  },
  {
   "cell_type": "code",
   "execution_count": 43,
   "id": "043dd08a",
   "metadata": {},
   "outputs": [
    {
     "data": {
      "text/html": [
       "<html>\n",
       "<div style=\"display:flex; align-items:center;\">\n",
       "<div style=\"width:290px;\">\n",
       "<svg xmlns=\"http://www.w3.org/2000/svg\" viewBox=\"-10 -105 270 120\">\n",
       "<line x1=\"-5\" y1=\"0\" x2=\"255\" y2=\"0\" style=\"fill:none;stroke-width:2;stroke:currentColor\"/>\n",
       "<text text-anchor=\"middle\" x=\"0\" y=\"15\" style=\"fill:currentColor;\">\n",
       "0\n",
       "</text>\n",
       "<text text-anchor=\"middle\" x=\"250\" y=\"15\" style=\"fill:currentColor;\">\n",
       "500\n",
       "</text>\n",
       "<text text-anchor=\"middle\" x=\"125.0\" y=\"15\" style=\"fill:currentColor;\">\n",
       "Axis 0\n",
       "</text>\n",
       "<polyline points=\"  0,0   0,-100   5,-100   5,-81.9  10,-81.9  10,-67.1  15,-67.1  15,-54.9  20,-54.9  20,-45  25,-45  25,-36.9  30,-36.9  30,-30.1  35,-30.1  35,-24.7  40,-24.7  40,-20.2  45,-20.2  45,-16.6  50,-16.6  50,-13.5  55,-13.5  55,-11.1  60,-11.1  60,-9.07  65,-9.07  65,-7.42  70,-7.42  70,-6.08  75,-6.08  75,-4.98  80,-4.98  80,-4.06  85,-4.06  85,-3.31  90,-3.31  90,-2.73  95,-2.73  95,-2.28 100,-2.28 100,-1.86 105,-1.86 105,-1.5 110,-1.5 110,-1.23 115,-1.23 115,-1.01 120,-1.01 120,-0.82 125,-0.82 125,-0.687 130,-0.687 130,-0.555 135,-0.555 135,-0.45 140,-0.45 140,-0.376 145,-0.376 145,-0.299 150,-0.299 150,-0.249 155,-0.249 155,-0.204 160,-0.204 160,-0.16 165,-0.16 165,-0.13 170,-0.13 170,-0.114 175,-0.114 175,-0.0945 180,-0.0945 180,-0.0731 185,-0.0731 185,-0.0628 190,-0.0628 190,-0.0484 195,-0.0484 195,-0.0411 200,-0.0411 200,-0.0306 205,-0.0306 205,-0.0285 210,-0.0285 210,-0.0206 215,-0.0206 215,-0.0181 220,-0.0181 220,-0.0155 225,-0.0155 225,-0.0108 230,-0.0108 230,-0.0102 235,-0.0102 235,-0.00989 240,-0.00989 240,-0.0064 245,-0.0064 245,-0.0054 250,-0.0054 250,0\" style=\"fill:none; stroke:currentColor;\"/>\n",
       "</svg>\n",
       "</div>\n",
       "<div style=\"flex=grow:1;\">\n",
       "Regular(50, 0, 500, label='Axis 0')<br/>\n",
       "<hr style=\"margin-top:.2em; margin-bottom:.2em;\"/>\n",
       "Weight() Σ=WeightedSum(value=1.0001e+07, variance=1.33371e+07) <em>(WeightedSum(value=1.00014e+07, variance=1.33377e+07) with flow)</em>\n",
       "\n",
       "</div>\n",
       "</div>\n",
       "</html>"
      ],
      "text/plain": [
       "Hist(Regular(50, 0, 500, label='Axis 0'), storage=Weight()) # Sum: WeightedSum(value=1.0001e+07, variance=1.33371e+07) (WeightedSum(value=1.00014e+07, variance=1.33377e+07) with flow)"
      ]
     },
     "execution_count": 43,
     "metadata": {},
     "output_type": "execute_result"
    }
   ],
   "source": [
    "# make and fill your histograms\n",
    "######################\n",
    "# need to change binning!!!!\n",
    "##################\n",
    "h_data = hist.Hist(hist.axis.Regular(50, 0, 500))\n",
    "h_signal = hist.Hist(hist.axis.Regular(50, 0, 500), storage=hist.storage.Weight())\n",
    "h_background = hist.Hist(hist.axis.Regular(50, 0, 500), storage=hist.storage.Weight())\n",
    "\n",
    "h_data.fill(data_mass)\n",
    "h_signal.fill(signal_mass, weight=signal_weights)\n",
    "h_background.fill(background_mass, weight=background_weights)"
   ]
  },
  {
   "cell_type": "markdown",
   "id": "8dc3b0a5",
   "metadata": {},
   "source": [
    "## When you actually plot the histogram, you should realize that the binning is quite large. Go ahead and redefine the histogram bin edges to see more fine binned results. <br> Then plot the ratio of $\\frac{data}{(signal+background)}$ in the second subplot undereath.\n",
    "## If your plot is small the first time you run the following cell, try to run it again to enlarge it. I don't know why matplotlib behaves like this, but just give it a try. "
   ]
  },
  {
   "cell_type": "code",
   "execution_count": 44,
   "id": "a279ec92",
   "metadata": {},
   "outputs": [
    {
     "data": {
      "text/plain": [
       "<matplotlib.legend.Legend at 0x7feb2b28ce80>"
      ]
     },
     "execution_count": 44,
     "metadata": {},
     "output_type": "execute_result"
    },
    {
     "data": {
      "image/png": "[encoded data removed]",
      "text/plain": [
       "<Figure size 720x720 with 2 Axes>"
      ]
     },
     "metadata": {
      "needs_background": "light"
     },
     "output_type": "display_data"
    }
   ],
   "source": [
    "# let's plot the momentum in the x direction\n",
    "import mplhep as hep\n",
    "\n",
    "fig, (ax, rax) = plt.subplots(2, 1, gridspec_kw={'height_ratios':[3,1]})\n",
    "\n",
    "hep.style.use(hep.style.CMS)\n",
    "plt.rcParams.update({'mathtext.fontset': 'cm'})\n",
    "#hep.label.lumitext('3000 $fb^{-1}$\\t\\t\\t')\n",
    "hep.label.exp_label('Purdue Datamine', loc=1, com='14', lumi=3000, ax=ax)\n",
    "hep.histplot(\n",
    "    h_data,\n",
    "    histtype='errorbar',\n",
    "    color='black',\n",
    "    label='Data',\n",
    "    ax=ax\n",
    "    # options..\n",
    ")\n",
    "\n",
    "hep.histplot(\n",
    "    [h_background, h_signal],\n",
    "    histtype='fill',\n",
    "    color=['blue', 'red'],\n",
    "    stack=True,\n",
    "    label=['Background', r'$Z\\rightarrow \\mathit{l} \\bar{\\mathit{l}}$'],\n",
    "    ax=ax\n",
    "    # options..\n",
    ")\n",
    "########################\n",
    "# make a ratio of data to prediction\n",
    "##################3\n",
    "#hep.histplot(,ax=rax)\n",
    "ax.set_ylim(0, 1.5e7)\n",
    "ax.legend(loc=4)\n"
   ]
  },
  {
   "cell_type": "markdown",
   "id": "b5e5b50a",
   "metadata": {},
   "source": [
    "# Problem 2:\n",
    "## Estimate the number of signal events and background events in the data"
   ]
  },
  {
   "cell_type": "code",
   "execution_count": 47,
   "id": "9904f2b0",
   "metadata": {},
   "outputs": [],
   "source": [
    "import scipy\n",
    "import numpy as np\n",
    "import matplotlib.pyplot as plt\n",
    "from scipy.optimize import curve_fit\n",
    "\n",
    "def signal_function(x, mass, width, num_events):\n",
    "    \"\"\"\n",
    "        @param x: The x value that you are fitting on (dilepton invariant mass for example)\n",
    "        @param mass: The mass of the signal model that you are trying to extract\n",
    "        @param width: The width of the mass peak that you are trying to extract\n",
    "        @param num_events: The number of events that lie within the mass peak.\n",
    "    \"\"\"\n",
    "    return num_events * np.exp(-1 * (x - mass) ** 2 / (2 * width ** 2))\n",
    "\n",
    "def background_function(x, lambduh, num_events):\n",
    "    \"\"\"\n",
    "        @param x: The x value that you are fitting on (dilepton invariant mass for example)\n",
    "        @param lambduh: Shape parameter for the background (falling exponential)\n",
    "        @param num_events: The number of events that lie within the mass peak.\n",
    "    \"\"\"\n",
    "    return num_events * lambduh * np.exp(-1 * lambduh * x)\n",
    "\n",
    "def combined_function(x, mass, width, num_signal_events, num_bkg_events, lambduh):\n",
    "    return signal_function(x, mass, width, num_signal_events) + background_function(x, lambduh, num_bkg_events)"
   ]
  },
  {
   "cell_type": "code",
   "execution_count": 49,
   "id": "799f41d6",
   "metadata": {},
   "outputs": [
    {
     "name": "stderr",
     "output_type": "stream",
     "text": [
      "/tmp/ipykernel_17708/2219130578.py:21: RuntimeWarning: overflow encountered in exp\n",
      "  return num_events * lambduh * np.exp(-1 * lambduh * x)\n"
     ]
    }
   ],
   "source": [
    "x = # define your x-axis points. Hint: Grab them from the histograms that you filled - use a combination of .axes[index] and .centers. You may notice that there's only x-axis found if you use .axes because y-axis values are stored in .values or .counts. \n",
    "params, covariance = curve_fit(combined_function, x, y, sigma=y_err, p0=[172, 10, 1e6, 1e7, 1], absolute_sigma=True) \n",
    "# Hint: You can access y and y_err with .values() and .variances() features. "
   ]
  },
  {
   "cell_type": "markdown",
   "id": "0c150287",
   "metadata": {},
   "source": [
    "### You need to divide the histograms finely, I tested with only a few number of bins and it doesn't run on the combined function. A large number of bins will work. It's better to include the initial guess of fit parameters as an argument p0=[mass, width, n_signal_events, n_bkg_events, lamda]. Replace mass, width etc. with a number of your best estimate otherwise the result will diverge under certain circumstances."
   ]
  },
  {
   "cell_type": "code",
   "execution_count": 50,
   "id": "fdb2b8db",
   "metadata": {},
   "outputs": [
    {
     "data": {
      "text/plain": [
       "(array([ 1.53327550e+02,  2.21803935e+01, -3.91189306e+04,  1.07836638e+08,\n",
       "         1.79361120e-02]),\n",
       " array([[ 1.61427814e+02, -1.50272724e+01,  1.22694499e+04,\n",
       "         -4.36920502e+06,  1.06278187e-03],\n",
       "        [-1.50272724e+01,  1.90298007e+02,  1.07472390e+05,\n",
       "          9.86700677e+06, -2.55891404e-03],\n",
       "        [ 1.22694499e+04,  1.07472390e+05,  3.85660939e+08,\n",
       "         -7.78897601e+09,  2.16441410e+00],\n",
       "        [-4.36920502e+06,  9.86700677e+06, -7.78897601e+09,\n",
       "          3.22050293e+12, -6.45174160e+02],\n",
       "        [ 1.06278187e-03, -2.55891404e-03,  2.16441410e+00,\n",
       "         -6.45174160e+02,  1.95775006e-07]]))"
      ]
     },
     "execution_count": 50,
     "metadata": {},
     "output_type": "execute_result"
    }
   ],
   "source": [
    "params, covariance"
   ]
  },
  {
   "cell_type": "code",
   "execution_count": null,
   "id": "6eec4940",
   "metadata": {},
   "outputs": [],
   "source": []
  }
 ],
 "metadata": {
  "kernelspec": {
   "display_name": "Python 3.9 (Default)",
   "language": "python",
   "name": "python3"
  },
  "language_info": {
   "codemirror_mode": {
    "name": "ipython",
    "version": 3
   },
   "file_extension": ".py",
   "mimetype": "text/x-python",
   "name": "python",
   "nbconvert_exporter": "python",
   "pygments_lexer": "ipython3",
   "version": "3.9.7"
  }
 },
 "nbformat": 4,
 "nbformat_minor": 5
}
